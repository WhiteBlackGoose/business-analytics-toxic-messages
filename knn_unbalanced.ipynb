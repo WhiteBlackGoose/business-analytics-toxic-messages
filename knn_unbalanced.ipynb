{
 "cells": [
  {
   "cell_type": "code",
   "execution_count": 2,
   "metadata": {},
   "outputs": [],
   "source": [
    "from preprocess import proc\n",
    "import freq\n",
    "from freq import read_kw, word_list2freq_dict\n",
    "from importlib import reload\n",
    "import pandas as pd\n",
    "import numpy as np\n",
    "from sklearn.metrics import fbeta_score\n",
    "import matplotlib.pyplot as plt\n",
    "from sklearn.metrics import plot_confusion_matrix, classification_report\n",
    "reload(freq)\n",
    "\n",
    "\n",
    "def cross_validation(model, X, y, scorer, cv=5):\n",
    "    return cross_validate(estimator=model,\n",
    "                          X=X,\n",
    "                          y=y,\n",
    "                          cv=cv,\n",
    "                          scoring=scorer,\n",
    "                          return_train_score=True)\n",
    "\n",
    "\n",
    "def scor(y, y_pred):\n",
    "    t_pt = [i * j for i in y for j in y_pred]\n",
    "    f_pf = [(1 - i) * (1 - j) for i in y for j in y_pred]\n",
    "    return sum(t_pt) * sum(f_pf) / (sum(y_pred) * (len(y_pred) - sum(y_pred)))\n",
    "\n",
    "\n",
    "kw = read_kw()\n",
    "\n",
    "train = pd.read_csv(\"./train.csv\")[['target', 'comment_text']][:200000]\n",
    "test = pd.read_csv(\"./test.csv\")[['comment_text']]\n",
    "train['toxic'] = 1 * (train['target'] > 0.5)\n",
    "\n",
    "\n",
    "def comment_text_to_vec(comment_text):\n",
    "    p = proc(comment_text, [1, 2])\n",
    "    return word_list2freq_dict(kw, p)\n",
    "\n",
    "\n",
    "train[\"comment\"] = train['comment_text'].apply(comment_text_to_vec)\n",
    "\n"
   ]
  },
  {
   "cell_type": "code",
   "execution_count": 3,
   "metadata": {},
   "outputs": [
    {
     "name": "stdout",
     "output_type": "stream",
     "text": [
      "0.22216112180368436\n",
      "0.34674756848398325\n",
      "0.9511933333333333\n",
      "0.94342\n",
      "              precision    recall  f1-score   support\n",
      "\n",
      "           0       0.95      0.99      0.97     47085\n",
      "           1       0.56      0.14      0.22      2915\n",
      "\n",
      "    accuracy                           0.94     50000\n",
      "   macro avg       0.75      0.57      0.60     50000\n",
      "weighted avg       0.93      0.94      0.93     50000\n",
      "\n"
     ]
    },
    {
     "data": {
      "image/png": "[encoded data removed]",
      "text/plain": [
       "<Figure size 432x288 with 2 Axes>"
      ]
     },
     "metadata": {
      "needs_background": "light"
     },
     "output_type": "display_data"
    }
   ],
   "source": [
    "from sklearn.model_selection import train_test_split, cross_validate\n",
    "from sklearn.neighbors import KNeighborsClassifier\n",
    "from sklearn.metrics import f1_score\n",
    "from sklearn.preprocessing import StandardScaler\n",
    "\n",
    "X_train, X_test, y_train, y_test = train_test_split(train[\"comment\"], train[\"toxic\"])\n",
    "\n",
    "X_train = np.stack(X_train)\n",
    "X_test = np.stack(X_test)\n",
    "scaler = StandardScaler()\n",
    "\n",
    "Xs_train = scaler.fit_transform(X_train)\n",
    "Xs_test = scaler.transform(X_test)\n",
    "\n",
    "m = KNeighborsClassifier(n_neighbors=5, weights='distance')\n",
    "m.fit(Xs_train, y_train)\n",
    "pred = m.predict(Xs_test)\n",
    "pred_train = m.predict(Xs_train)\n",
    "\n",
    "print(f1_score(y_test, pred))\n",
    "print(f1_score(pred_train, y_train))\n",
    "print(m.score(Xs_train, y_train))\n",
    "print(m.score(Xs_test, y_test))\n",
    "print(classification_report(y_test, pred))\n",
    "plot_confusion_matrix(m, Xs_test, y_test)\n",
    "plt.show()"
   ]
  },
  {
   "cell_type": "code",
   "execution_count": 4,
   "metadata": {},
   "outputs": [
    {
     "name": "stdout",
     "output_type": "stream",
     "text": [
      "0.2905296950240771\n",
      "0.31927763653896735\n",
      "0.9482333333333334\n",
      "0.94696\n",
      "              precision    recall  f1-score   support\n",
      "\n",
      "           0       0.95      0.99      0.97     47132\n",
      "           1       0.62      0.19      0.29      2868\n",
      "\n",
      "    accuracy                           0.95     50000\n",
      "   macro avg       0.79      0.59      0.63     50000\n",
      "weighted avg       0.93      0.95      0.93     50000\n",
      "\n"
     ]
    },
    {
     "data": {
      "image/png": "[encoded data removed]",
      "text/plain": [
       "<Figure size 432x288 with 2 Axes>"
      ]
     },
     "metadata": {
      "needs_background": "light"
     },
     "output_type": "display_data"
    }
   ],
   "source": [
    "from sklearn.model_selection import train_test_split, cross_validate\n",
    "from sklearn.neighbors import KNeighborsClassifier\n",
    "from sklearn.metrics import f1_score\n",
    "from sklearn.preprocessing import StandardScaler\n",
    "\n",
    "X_train, X_test, y_train, y_test = train_test_split(train[\"comment\"], train[\"toxic\"])\n",
    "\n",
    "X_train = np.stack(X_train)\n",
    "X_test = np.stack(X_test)\n",
    "scaler = StandardScaler()\n",
    "\n",
    "Xs_train = scaler.fit_transform(X_train)\n",
    "Xs_test = scaler.transform(X_test)\n",
    "\n",
    "m = KNeighborsClassifier(n_neighbors=5, weights='uniform')\n",
    "m.fit(Xs_train, y_train)\n",
    "pred = m.predict(Xs_test)\n",
    "pred_train = m.predict(Xs_train)\n",
    "\n",
    "print(f1_score(y_test, pred))\n",
    "print(f1_score(pred_train, y_train))\n",
    "print(m.score(Xs_train, y_train))\n",
    "print(m.score(Xs_test, y_test))\n",
    "print(classification_report(y_test, pred))\n",
    "plot_confusion_matrix(m, Xs_test, y_test)\n",
    "plt.show()"
   ]
  },
  {
   "cell_type": "code",
   "execution_count": 5,
   "metadata": {},
   "outputs": [
    {
     "name": "stdout",
     "output_type": "stream",
     "text": [
      "0.25822234302799674\n",
      "0.375411080192259\n",
      "0.95062\n",
      "0.94542\n",
      "              precision    recall  f1-score   support\n",
      "\n",
      "           0       0.95      0.99      0.97     47215\n",
      "           1       0.53      0.17      0.26      2785\n",
      "\n",
      "    accuracy                           0.95     50000\n",
      "   macro avg       0.74      0.58      0.61     50000\n",
      "weighted avg       0.93      0.95      0.93     50000\n",
      "\n"
     ]
    },
    {
     "data": {
      "image/png": "[encoded data removed]",
      "text/plain": [
       "<Figure size 432x288 with 2 Axes>"
      ]
     },
     "metadata": {
      "needs_background": "light"
     },
     "output_type": "display_data"
    }
   ],
   "source": [
    "from sklearn.model_selection import train_test_split, cross_validate\n",
    "from sklearn.neighbors import KNeighborsClassifier\n",
    "from sklearn.metrics import f1_score\n",
    "from sklearn.preprocessing import StandardScaler\n",
    "\n",
    "X_train, X_test, y_train, y_test = train_test_split(train[\"comment\"], train[\"toxic\"])\n",
    "\n",
    "X_train = np.stack(X_train)\n",
    "X_test = np.stack(X_test)\n",
    "scaler = StandardScaler()\n",
    "\n",
    "Xs_train = scaler.fit_transform(X_train)\n",
    "Xs_test = scaler.transform(X_test)\n",
    "\n",
    "m = KNeighborsClassifier(n_neighbors=3, weights='distance')\n",
    "m.fit(Xs_train, y_train)\n",
    "pred = m.predict(Xs_test)\n",
    "pred_train = m.predict(Xs_train)\n",
    "\n",
    "print(f1_score(y_test, pred))\n",
    "print(f1_score(pred_train, y_train))\n",
    "print(m.score(Xs_train, y_train))\n",
    "print(m.score(Xs_test, y_test))\n",
    "print(classification_report(y_test, pred))\n",
    "plot_confusion_matrix(m, Xs_test, y_test)\n",
    "plt.show()"
   ]
  },
  {
   "cell_type": "code",
   "execution_count": 6,
   "metadata": {},
   "outputs": [
    {
     "name": "stdout",
     "output_type": "stream",
     "text": [
      "0.30874450415241816\n",
      "0.34626676188209154\n",
      "0.9450733333333333\n",
      "0.9434\n",
      "              precision    recall  f1-score   support\n",
      "\n",
      "           0       0.96      0.99      0.97     47185\n",
      "           1       0.49      0.22      0.31      2815\n",
      "\n",
      "    accuracy                           0.94     50000\n",
      "   macro avg       0.72      0.61      0.64     50000\n",
      "weighted avg       0.93      0.94      0.93     50000\n",
      "\n"
     ]
    },
    {
     "data": {
      "image/png": "[encoded data removed]",
      "text/plain": [
       "<Figure size 432x288 with 2 Axes>"
      ]
     },
     "metadata": {
      "needs_background": "light"
     },
     "output_type": "display_data"
    }
   ],
   "source": [
    "from sklearn.model_selection import train_test_split, cross_validate\n",
    "from sklearn.neighbors import KNeighborsClassifier\n",
    "from sklearn.metrics import f1_score\n",
    "from sklearn.preprocessing import StandardScaler\n",
    "\n",
    "X_train, X_test, y_train, y_test = train_test_split(train[\"comment\"], train[\"toxic\"])\n",
    "\n",
    "X_train = np.stack(X_train)\n",
    "X_test = np.stack(X_test)\n",
    "scaler = StandardScaler()\n",
    "\n",
    "Xs_train = scaler.fit_transform(X_train)\n",
    "Xs_test = scaler.transform(X_test)\n",
    "\n",
    "m = KNeighborsClassifier(n_neighbors=3, weights='uniform')\n",
    "m.fit(Xs_train, y_train)\n",
    "pred = m.predict(Xs_test)\n",
    "pred_train = m.predict(Xs_train)\n",
    "\n",
    "print(f1_score(y_test, pred))\n",
    "print(f1_score(pred_train, y_train))\n",
    "print(m.score(Xs_train, y_train))\n",
    "print(m.score(Xs_test, y_test))\n",
    "print(classification_report(y_test, pred))\n",
    "plot_confusion_matrix(m, Xs_test, y_test)\n",
    "plt.show()"
   ]
  },
  {
   "cell_type": "code",
   "execution_count": 7,
   "metadata": {},
   "outputs": [
    {
     "name": "stdout",
     "output_type": "stream",
     "text": [
      "0.2763300760043431\n",
      "0.39962006735169675\n",
      "0.9536466666666666\n",
      "0.94668\n",
      "              precision    recall  f1-score   support\n",
      "\n",
      "           0       0.95      0.99      0.97     47153\n",
      "           1       0.61      0.18      0.28      2847\n",
      "\n",
      "    accuracy                           0.95     50000\n",
      "   macro avg       0.78      0.59      0.62     50000\n",
      "weighted avg       0.93      0.95      0.93     50000\n",
      "\n"
     ]
    },
    {
     "data": {
      "image/png": "[encoded data removed]",
      "text/plain": [
       "<Figure size 432x288 with 2 Axes>"
      ]
     },
     "metadata": {
      "needs_background": "light"
     },
     "output_type": "display_data"
    }
   ],
   "source": [
    "from sklearn.model_selection import train_test_split, cross_validate\n",
    "from sklearn.neighbors import KNeighborsClassifier\n",
    "from sklearn.metrics import f1_score\n",
    "from sklearn.preprocessing import StandardScaler\n",
    "\n",
    "X_train, X_test, y_train, y_test = train_test_split(train[\"comment\"], train[\"toxic\"])\n",
    "\n",
    "X_train = np.stack(X_train)\n",
    "X_test = np.stack(X_test)\n",
    "scaler = StandardScaler()\n",
    "\n",
    "Xs_train = scaler.fit_transform(X_train)\n",
    "Xs_test = scaler.transform(X_test)\n",
    "\n",
    "m = KNeighborsClassifier(n_neighbors=7, weights='distance')\n",
    "m.fit(Xs_train, y_train)\n",
    "pred = m.predict(Xs_test)\n",
    "pred_train = m.predict(Xs_train)\n",
    "\n",
    "print(f1_score(y_test, pred))\n",
    "print(f1_score(pred_train, y_train))\n",
    "print(m.score(Xs_train, y_train))\n",
    "print(m.score(Xs_test, y_test))\n",
    "print(classification_report(y_test, pred))\n",
    "plot_confusion_matrix(m, Xs_test, y_test)\n",
    "plt.show()"
   ]
  },
  {
   "cell_type": "code",
   "execution_count": null,
   "metadata": {},
   "outputs": [],
   "source": [
    "from sklearn.model_selection import train_test_split, cross_validate\n",
    "from sklearn.neighbors import KNeighborsClassifier\n",
    "from sklearn.metrics import f1_score\n",
    "from sklearn.preprocessing import StandardScaler\n",
    "\n",
    "X_train, X_test, y_train, y_test = train_test_split(train[\"comment\"], train[\"toxic\"])\n",
    "\n",
    "X_train = np.stack(X_train)\n",
    "X_test = np.stack(X_test)\n",
    "scaler = StandardScaler()\n",
    "\n",
    "Xs_train = scaler.fit_transform(X_train)\n",
    "Xs_test = scaler.transform(X_test)\n",
    "\n",
    "m = KNeighborsClassifier(n_neighbors=7, weights='uniform')\n",
    "m.fit(Xs_train, y_train)\n",
    "pred = m.predict(Xs_test)\n",
    "pred_train = m.predict(Xs_train)\n",
    "\n",
    "print(f1_score(y_test, pred))\n",
    "print(f1_score(pred_train, y_train))\n",
    "print(m.score(Xs_train, y_train))\n",
    "print(m.score(Xs_test, y_test))\n",
    "print(classification_report(y_test, pred))\n",
    "plot_confusion_matrix(m, Xs_test, y_test)\n",
    "plt.show()"
   ]
  },
  {
   "cell_type": "code",
   "execution_count": null,
   "metadata": {},
   "outputs": [],
   "source": []
  }
 ],
 "metadata": {
  "kernelspec": {
   "display_name": "Python 3",
   "language": "python",
   "name": "python3"
  },
  "language_info": {
   "codemirror_mode": {
    "name": "ipython",
    "version": 3
   },
   "file_extension": ".py",
   "mimetype": "text/x-python",
   "name": "python",
   "nbconvert_exporter": "python",
   "pygments_lexer": "ipython3",
   "version": "3.8.3"
  }
 },
 "nbformat": 4,
 "nbformat_minor": 4
}
