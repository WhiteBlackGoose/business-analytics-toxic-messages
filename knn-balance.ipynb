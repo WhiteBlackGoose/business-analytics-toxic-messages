{
 "cells": [
  {
   "cell_type": "code",
   "execution_count": 12,
   "metadata": {},
   "outputs": [],
   "source": [
    "from preprocess import proc\n",
    "import freq\n",
    "from freq import read_kw, word_list2freq_dict\n",
    "from importlib import reload\n",
    "import pandas as pd\n",
    "import numpy as np\n",
    "from sklearn.metrics import fbeta_score\n",
    "import matplotlib.pyplot as plt\n",
    "from sklearn.metrics import plot_confusion_matrix, classification_report\n",
    "reload(freq)\n",
    "\n",
    "\n",
    "def cross_validation(model, X, y, scorer, cv=5):\n",
    "    return cross_validate(estimator=model,\n",
    "                          X=X,\n",
    "                          y=y,\n",
    "                          cv=cv,\n",
    "                          scoring=scorer,\n",
    "                          return_train_score=True)\n",
    "\n",
    "\n",
    "def scor(y, y_pred):\n",
    "    t_pt = [i * j for i in y for j in y_pred]\n",
    "    f_pf = [(1 - i) * (1 - j) for i in y for j in y_pred]\n",
    "    return sum(t_pt) * sum(f_pf) / (sum(y_pred) * (len(y_pred) - sum(y_pred)))\n",
    "\n",
    "\n",
    "kw = read_kw()\n",
    "\n",
    "train = pd.read_csv(\"./train.csv\")[['target', 'comment_text']]\n",
    "test = pd.read_csv(\"./test.csv\")[['comment_text']]\n",
    "train['toxic'] = 1 * (train['target'] > 0.5)\n",
    "\n",
    "train_toxic = train[train['toxic'] == 1]\n",
    "train_not_toxic = train[train['toxic'] == 0].sample(len(train_toxic))\n",
    "train = pd.concat([train_toxic, train_not_toxic])\n",
    "\n",
    "def comment_text_to_vec(comment_text):\n",
    "    p = proc(comment_text, [1, 2])\n",
    "    return word_list2freq_dict(kw, p)\n",
    "\n",
    "\n",
    "train[\"comment\"] = train['comment_text'].apply(comment_text_to_vec)\n",
    "\n",
    "\n"
   ]
  },
  {
   "cell_type": "code",
   "execution_count": 13,
   "metadata": {},
   "outputs": [
    {
     "name": "stdout",
     "output_type": "stream",
     "text": [
      "0.6541739953998105\n",
      "0.6686154233598963\n",
      "0.5384605748573504\n",
      "0.5197204006088051\n",
      "              precision    recall  f1-score   support\n",
      "\n",
      "           0       0.58      0.13      0.21     26547\n",
      "           1       0.51      0.91      0.65     26672\n",
      "\n",
      "    accuracy                           0.52     53219\n",
      "   macro avg       0.55      0.52      0.43     53219\n",
      "weighted avg       0.55      0.52      0.43     53219\n",
      "\n"
     ]
    },
    {
     "data": {
      "image/png": "[encoded data removed]",
      "text/plain": [
       "<Figure size 432x288 with 2 Axes>"
      ]
     },
     "metadata": {
      "needs_background": "light"
     },
     "output_type": "display_data"
    }
   ],
   "source": [
    "from sklearn.model_selection import train_test_split, cross_validate\n",
    "from sklearn.neighbors import KNeighborsClassifier\n",
    "from sklearn.metrics import f1_score\n",
    "from sklearn.preprocessing import StandardScaler\n",
    "\n",
    "X_train, X_test, y_train, y_test = train_test_split(train[\"comment\"], train[\"toxic\"])\n",
    "\n",
    "X_train = np.stack(X_train)\n",
    "X_test = np.stack(X_test)\n",
    "scaler = StandardScaler()\n",
    "\n",
    "Xs_train = scaler.fit_transform(X_train)\n",
    "Xs_test = scaler.transform(X_test)\n",
    "\n",
    "m = KNeighborsClassifier(n_neighbors=5, weights='distance')\n",
    "m.fit(Xs_train, y_train)\n",
    "pred = m.predict(Xs_test)\n",
    "pred_train = m.predict(Xs_train)\n",
    "\n",
    "print(f1_score(y_test, pred))\n",
    "print(f1_score(pred_train, y_train))\n",
    "print(m.score(Xs_train, y_train))\n",
    "print(m.score(Xs_test, y_test))\n",
    "print(classification_report(y_test, pred))\n",
    "plot_confusion_matrix(m, Xs_test, y_test)\n",
    "plt.show()"
   ]
  },
  {
   "cell_type": "code",
   "execution_count": 14,
   "metadata": {},
   "outputs": [
    {
     "name": "stdout",
     "output_type": "stream",
     "text": [
      "0.6550378141010003\n",
      "0.6585918115545754\n",
      "0.5268544442147854\n",
      "0.521749751028768\n",
      "              precision    recall  f1-score   support\n",
      "\n",
      "           0       0.59      0.14      0.22     26529\n",
      "           1       0.51      0.91      0.66     26690\n",
      "\n",
      "    accuracy                           0.52     53219\n",
      "   macro avg       0.55      0.52      0.44     53219\n",
      "weighted avg       0.55      0.52      0.44     53219\n",
      "\n"
     ]
    },
    {
     "data": {
      "image/png": "[encoded data removed]",
      "text/plain": [
       "<Figure size 432x288 with 2 Axes>"
      ]
     },
     "metadata": {
      "needs_background": "light"
     },
     "output_type": "display_data"
    }
   ],
   "source": [
    "from sklearn.model_selection import train_test_split, cross_validate\n",
    "from sklearn.neighbors import KNeighborsClassifier\n",
    "from sklearn.metrics import f1_score\n",
    "from sklearn.preprocessing import StandardScaler\n",
    "\n",
    "X_train, X_test, y_train, y_test = train_test_split(train[\"comment\"], train[\"toxic\"])\n",
    "\n",
    "X_train = np.stack(X_train)\n",
    "X_test = np.stack(X_test)\n",
    "scaler = StandardScaler()\n",
    "\n",
    "Xs_train = scaler.fit_transform(X_train)\n",
    "Xs_test = scaler.transform(X_test)\n",
    "\n",
    "m = KNeighborsClassifier(n_neighbors=5, weights='uniform')\n",
    "m.fit(Xs_train, y_train)\n",
    "pred = m.predict(Xs_test)\n",
    "pred_train = m.predict(Xs_train)\n",
    "\n",
    "print(f1_score(y_test, pred))\n",
    "print(f1_score(pred_train, y_train))\n",
    "print(m.score(Xs_train, y_train))\n",
    "print(m.score(Xs_test, y_test))\n",
    "print(classification_report(y_test, pred))\n",
    "plot_confusion_matrix(m, Xs_test, y_test)\n",
    "plt.show()"
   ]
  },
  {
   "cell_type": "code",
   "execution_count": 15,
   "metadata": {},
   "outputs": [
    {
     "name": "stdout",
     "output_type": "stream",
     "text": [
      "0.5362828303118566\n",
      "0.5606277698177335\n",
      "0.6696417945971677\n",
      "0.652981078186362\n",
      "              precision    recall  f1-score   support\n",
      "\n",
      "           0       0.60      0.90      0.72     26644\n",
      "           1       0.81      0.40      0.54     26575\n",
      "\n",
      "    accuracy                           0.65     53219\n",
      "   macro avg       0.70      0.65      0.63     53219\n",
      "weighted avg       0.70      0.65      0.63     53219\n",
      "\n"
     ]
    },
    {
     "data": {
      "image/png": "[encoded data removed]",
      "text/plain": [
       "<Figure size 432x288 with 2 Axes>"
      ]
     },
     "metadata": {
      "needs_background": "light"
     },
     "output_type": "display_data"
    }
   ],
   "source": [
    "from sklearn.model_selection import train_test_split, cross_validate\n",
    "from sklearn.neighbors import KNeighborsClassifier\n",
    "from sklearn.metrics import f1_score\n",
    "from sklearn.preprocessing import StandardScaler\n",
    "\n",
    "X_train, X_test, y_train, y_test = train_test_split(train[\"comment\"], train[\"toxic\"])\n",
    "\n",
    "X_train = np.stack(X_train)\n",
    "X_test = np.stack(X_test)\n",
    "scaler = StandardScaler()\n",
    "\n",
    "Xs_train = scaler.fit_transform(X_train)\n",
    "Xs_test = scaler.transform(X_test)\n",
    "\n",
    "m = KNeighborsClassifier(n_neighbors=3, weights='distance')\n",
    "m.fit(Xs_train, y_train)\n",
    "pred = m.predict(Xs_test)\n",
    "pred_train = m.predict(Xs_train)\n",
    "\n",
    "print(f1_score(y_test, pred))\n",
    "print(f1_score(pred_train, y_train))\n",
    "print(m.score(Xs_train, y_train))\n",
    "print(m.score(Xs_test, y_test))\n",
    "print(classification_report(y_test, pred))\n",
    "plot_confusion_matrix(m, Xs_test, y_test)\n",
    "plt.show()"
   ]
  },
  {
   "cell_type": "code",
   "execution_count": 16,
   "metadata": {},
   "outputs": [
    {
     "name": "stdout",
     "output_type": "stream",
     "text": [
      "0.560092062045983\n",
      "0.5770267985799732\n",
      "0.6709007434688112\n",
      "0.6552171217046544\n",
      "              precision    recall  f1-score   support\n",
      "\n",
      "           0       0.60      0.88      0.72     26364\n",
      "           1       0.79      0.43      0.56     26855\n",
      "\n",
      "    accuracy                           0.66     53219\n",
      "   macro avg       0.70      0.66      0.64     53219\n",
      "weighted avg       0.70      0.66      0.64     53219\n",
      "\n"
     ]
    },
    {
     "data": {
      "image/png": "[encoded data removed]",
      "text/plain": [
       "<Figure size 432x288 with 2 Axes>"
      ]
     },
     "metadata": {
      "needs_background": "light"
     },
     "output_type": "display_data"
    }
   ],
   "source": [
    "from sklearn.model_selection import train_test_split, cross_validate\n",
    "from sklearn.neighbors import KNeighborsClassifier\n",
    "from sklearn.metrics import f1_score\n",
    "from sklearn.preprocessing import StandardScaler\n",
    "\n",
    "X_train, X_test, y_train, y_test = train_test_split(train[\"comment\"], train[\"toxic\"])\n",
    "\n",
    "X_train = np.stack(X_train)\n",
    "X_test = np.stack(X_test)\n",
    "scaler = StandardScaler()\n",
    "\n",
    "Xs_train = scaler.fit_transform(X_train)\n",
    "Xs_test = scaler.transform(X_test)\n",
    "\n",
    "m = KNeighborsClassifier(n_neighbors=3, weights='uniform')\n",
    "m.fit(Xs_train, y_train)\n",
    "pred = m.predict(Xs_test)\n",
    "pred_train = m.predict(Xs_train)\n",
    "\n",
    "print(f1_score(y_test, pred))\n",
    "print(f1_score(pred_train, y_train))\n",
    "print(m.score(Xs_train, y_train))\n",
    "print(m.score(Xs_test, y_test))\n",
    "print(classification_report(y_test, pred))\n",
    "plot_confusion_matrix(m, Xs_test, y_test)\n",
    "plt.show()"
   ]
  },
  {
   "cell_type": "code",
   "execution_count": 17,
   "metadata": {},
   "outputs": [
    {
     "name": "stdout",
     "output_type": "stream",
     "text": [
      "0.5613860894603584\n",
      "0.5892863013248298\n",
      "0.6869914880024052\n",
      "0.6679757229560871\n",
      "              precision    recall  f1-score   support\n",
      "\n",
      "           0       0.61      0.91      0.73     26628\n",
      "           1       0.83      0.43      0.56     26591\n",
      "\n",
      "    accuracy                           0.67     53219\n",
      "   macro avg       0.72      0.67      0.65     53219\n",
      "weighted avg       0.72      0.67      0.65     53219\n",
      "\n"
     ]
    },
    {
     "data": {
      "image/png": "[encoded data removed]",
      "text/plain": [
       "<Figure size 432x288 with 2 Axes>"
      ]
     },
     "metadata": {
      "needs_background": "light"
     },
     "output_type": "display_data"
    }
   ],
   "source": [
    "from sklearn.model_selection import train_test_split, cross_validate\n",
    "from sklearn.neighbors import KNeighborsClassifier\n",
    "from sklearn.metrics import f1_score\n",
    "from sklearn.preprocessing import StandardScaler\n",
    "\n",
    "X_train, X_test, y_train, y_test = train_test_split(train[\"comment\"], train[\"toxic\"])\n",
    "\n",
    "X_train = np.stack(X_train)\n",
    "X_test = np.stack(X_test)\n",
    "scaler = StandardScaler()\n",
    "\n",
    "Xs_train = scaler.fit_transform(X_train)\n",
    "Xs_test = scaler.transform(X_test)\n",
    "\n",
    "m = KNeighborsClassifier(n_neighbors=7, weights='distance')\n",
    "m.fit(Xs_train, y_train)\n",
    "pred = m.predict(Xs_test)\n",
    "pred_train = m.predict(Xs_train)\n",
    "\n",
    "print(f1_score(y_test, pred))\n",
    "print(f1_score(pred_train, y_train))\n",
    "print(m.score(Xs_train, y_train))\n",
    "print(m.score(Xs_test, y_test))\n",
    "print(classification_report(y_test, pred))\n",
    "plot_confusion_matrix(m, Xs_test, y_test)\n",
    "plt.show()"
   ]
  },
  {
   "cell_type": "code",
   "execution_count": null,
   "metadata": {},
   "outputs": [],
   "source": [
    "from sklearn.model_selection import train_test_split, cross_validate\n",
    "from sklearn.neighbors import KNeighborsClassifier\n",
    "from sklearn.metrics import f1_score\n",
    "from sklearn.preprocessing import StandardScaler\n",
    "\n",
    "X_train, X_test, y_train, y_test = train_test_split(train[\"comment\"], train[\"toxic\"])\n",
    "\n",
    "X_train = np.stack(X_train)\n",
    "X_test = np.stack(X_test)\n",
    "scaler = StandardScaler()\n",
    "\n",
    "Xs_train = scaler.fit_transform(X_train)\n",
    "Xs_test = scaler.transform(X_test)\n",
    "\n",
    "m = KNeighborsClassifier(n_neighbors=7, weights='uniform')\n",
    "m.fit(Xs_train, y_train)\n",
    "pred = m.predict(Xs_test)\n",
    "pred_train = m.predict(Xs_train)\n",
    "\n",
    "print(f1_score(y_test, pred))\n",
    "print(f1_score(pred_train, y_train))\n",
    "print(m.score(Xs_train, y_train))\n",
    "print(m.score(Xs_test, y_test))\n",
    "print(classification_report(y_test, pred))\n",
    "plot_confusion_matrix(m, Xs_test, y_test)\n",
    "plt.show()"
   ]
  },
  {
   "cell_type": "code",
   "execution_count": null,
   "metadata": {},
   "outputs": [],
   "source": [
    "train.shape"
   ]
  },
  {
   "cell_type": "code",
   "execution_count": null,
   "metadata": {},
   "outputs": [],
   "source": []
  },
  {
   "cell_type": "code",
   "execution_count": null,
   "metadata": {},
   "outputs": [],
   "source": []
  }
 ],
 "metadata": {
  "kernelspec": {
   "display_name": "Python 3",
   "language": "python",
   "name": "python3"
  },
  "language_info": {
   "codemirror_mode": {
    "name": "ipython",
    "version": 3
   },
   "file_extension": ".py",
   "mimetype": "text/x-python",
   "name": "python",
   "nbconvert_exporter": "python",
   "pygments_lexer": "ipython3",
   "version": "3.8.3"
  }
 },
 "nbformat": 4,
 "nbformat_minor": 4
}
